{
  "nbformat": 4,
  "nbformat_minor": 0,
  "metadata": {
    "colab": {
      "name": "0601上課練習跟作業",
      "provenance": [],
      "authorship_tag": "ABX9TyOagJaYGlZfaoMx/PYLQaHN",
      "include_colab_link": true
    },
    "kernelspec": {
      "name": "python3",
      "display_name": "Python 3"
    },
    "language_info": {
      "name": "python"
    }
  },
  "cells": [
    {
      "cell_type": "markdown",
      "metadata": {
        "id": "view-in-github",
        "colab_type": "text"
      },
      "source": [
        "<a href=\"https://colab.research.google.com/github/Felicia2022/-/blob/5/0601%E4%B8%8A%E8%AA%B2%E7%B7%B4%E7%BF%92%E8%B7%9F%E4%BD%9C%E6%A5%AD.ipynb\" target=\"_parent\"><img src=\"https://colab.research.google.com/assets/colab-badge.svg\" alt=\"Open In Colab\"/></a>"
      ]
    },
    {
      "cell_type": "markdown",
      "source": [
        "九九乘法"
      ],
      "metadata": {
        "id": "M4lTTSr3pEva"
      }
    },
    {
      "cell_type": "code",
      "execution_count": null,
      "metadata": {
        "colab": {
          "base_uri": "https://localhost:8080/"
        },
        "id": "pAWj1cfyn4LM",
        "outputId": "5c939a38-9d74-4c04-c7b4-0a0eee99c736"
      },
      "outputs": [
        {
          "output_type": "stream",
          "name": "stdout",
          "text": [
            "2*1= 2 2*2= 4 2*3= 6 2*4= 8 2*5=10 2*6=12 2*7=14 2*8=16 2*9=18 \n",
            "3*1= 3 3*2= 6 3*3= 9 3*4=12 3*5=15 3*6=18 3*7=21 3*8=24 3*9=27 \n",
            "4*1= 4 4*2= 8 4*3=12 4*4=16 4*5=20 4*6=24 4*7=28 4*8=32 4*9=36 \n",
            "5*1= 5 5*2=10 5*3=15 5*4=20 5*5=25 5*6=30 5*7=35 5*8=40 5*9=45 \n",
            "6*1= 6 6*2=12 6*3=18 6*4=24 6*5=30 6*6=36 6*7=42 6*8=48 6*9=54 \n",
            "7*1= 7 7*2=14 7*3=21 7*4=28 7*5=35 7*6=42 7*7=49 7*8=56 7*9=63 \n",
            "8*1= 8 8*2=16 8*3=24 8*4=32 8*5=40 8*6=48 8*7=56 8*8=64 8*9=72 \n",
            "9*1= 9 9*2=18 9*3=27 9*4=36 9*5=45 9*6=54 9*7=63 9*8=72 9*9=81 \n"
          ]
        }
      ],
      "source": [
        "for i in range(2,10):\n",
        "  for j in range(1,10):\n",
        "    product = i * j\n",
        "    print(\"%d*%d=%2d\" % (i , j , product) , end=\" \")\n",
        "  print()"
      ]
    },
    {
      "cell_type": "markdown",
      "source": [
        "最小倍數"
      ],
      "metadata": {
        "id": "a3YpvgVdpJgS"
      }
    },
    {
      "cell_type": "code",
      "source": [
        "a = int(input(\"請輸入a的值：\"))\n",
        "b = int(input(\"請輸入b的值：\"))\n",
        "\n",
        "maxno=a*b\n",
        "for i in range(1,maxno+1):\n",
        "  if(i % a == 0 and i %b ==0):\n",
        "     break\n",
        "print(\"%d和 %d的最小公倍數 = %d \"%(a,b,i))"
      ],
      "metadata": {
        "colab": {
          "base_uri": "https://localhost:8080/"
        },
        "id": "xvYN2VEJo2A2",
        "outputId": "a00f200a-88a2-4969-dbae-bec2c3c6c4fe"
      },
      "execution_count": null,
      "outputs": [
        {
          "output_type": "stream",
          "name": "stdout",
          "text": [
            "請輸入a的值：5\n",
            "請輸入b的值：4\n",
            "5和 4的最小公倍數 = 20 \n"
          ]
        }
      ]
    },
    {
      "cell_type": "code",
      "source": [
        "a = int(input(\"請輸入a的值：\"))\n",
        "b = int(input(\"請輸入b的值：\"))\n",
        " \n",
        "maxno=a*b\n",
        "for i in range(1,maxno+1):\n",
        "  if(i % a == 0 and i % b == 0 ):\n",
        "    if(i% a == 0 and i %b ==0):\n",
        "      break\n",
        "print(\"%d和 %d的最小公倍數 = %d \"%(a,b,i,))\n",
        "       \n",
        "                   \n",
        "              \n",
        "              "
      ],
      "metadata": {
        "colab": {
          "base_uri": "https://localhost:8080/"
        },
        "id": "LCYMVp8uqlLV",
        "outputId": "b00d5fcc-f6be-4edd-ea5a-9d15fd18455a"
      },
      "execution_count": null,
      "outputs": [
        {
          "output_type": "stream",
          "name": "stdout",
          "text": [
            "請輸入a的值：9\n",
            "請輸入b的值：15\n",
            "9和 15的最小公倍數 = 45 \n"
          ]
        }
      ]
    },
    {
      "cell_type": "code",
      "source": [
        "n = int(input(\"請輸入一個正整數：\"))\n",
        "for i in range(1,n+1):\n",
        "  if i % 5 ==0:\n",
        "      continue \n",
        "  print(i,end=\" \")"
      ],
      "metadata": {
        "colab": {
          "base_uri": "https://localhost:8080/"
        },
        "id": "_lSY6NWirF_R",
        "outputId": "246aab2a-537d-4320-9bd2-1cc66993b315"
      },
      "execution_count": null,
      "outputs": [
        {
          "output_type": "stream",
          "name": "stdout",
          "text": [
            "請輸入一個正整數：12\n",
            "1 2 3 4 6 7 8 9 11 12 "
          ]
        }
      ]
    },
    {
      "cell_type": "code",
      "source": [
        "n = int(input(\"請輸入一個正整數：\"))\n",
        "for i in range(1,n+1):\n",
        "  if i % 5 == 0:\n",
        "     continue\n",
        "  print(i,end=\" \")"
      ],
      "metadata": {
        "colab": {
          "base_uri": "https://localhost:8080/"
        },
        "id": "Zh-_tgRBrGqO",
        "outputId": "c680ff3f-a336-4ace-e615-97ad73239f42"
      },
      "execution_count": null,
      "outputs": [
        {
          "output_type": "stream",
          "name": "stdout",
          "text": [
            "請輸入一個正整數：21\n",
            "1 2 3 4 6 7 8 9 11 12 13 14 16 17 18 19 21 "
          ]
        }
      ]
    },
    {
      "cell_type": "markdown",
      "source": [
        "while"
      ],
      "metadata": {
        "id": "8ny07p7btIra"
      }
    },
    {
      "cell_type": "code",
      "source": [
        "total = n = 0\n",
        "while(n<10):\n",
        "  n += 1 \n",
        "  total += n \n",
        "print(total)"
      ],
      "metadata": {
        "colab": {
          "base_uri": "https://localhost:8080/"
        },
        "id": "n6Ry8K9es2XR",
        "outputId": "6a62cd48-e24d-4597-f9da-7b8f5a1e7067"
      },
      "execution_count": null,
      "outputs": [
        {
          "output_type": "stream",
          "name": "stdout",
          "text": [
            "55\n"
          ]
        }
      ]
    },
    {
      "cell_type": "code",
      "source": [
        "total = n = 0\n",
        "while n<= 10:\n",
        "  total +=n \n",
        "  n += 1\n",
        "print(total)"
      ],
      "metadata": {
        "colab": {
          "base_uri": "https://localhost:8080/"
        },
        "id": "0Q6Zzkyss20C",
        "outputId": "3797e70b-f865-4443-a2b7-afade4c4206e"
      },
      "execution_count": null,
      "outputs": [
        {
          "output_type": "stream",
          "name": "stdout",
          "text": [
            "55\n"
          ]
        }
      ]
    },
    {
      "cell_type": "markdown",
      "source": [
        "n!"
      ],
      "metadata": {
        "id": "mw_onnBzvpYG"
      }
    },
    {
      "cell_type": "code",
      "source": [
        "total = i = 1\n",
        "n = int(input(\"請輸入正整數n的值：\"))\n",
        "while i<=n:\n",
        "    total *= i \n",
        "    i+=1\n",
        "print(\"%d!=%d\" % (n, total))"
      ],
      "metadata": {
        "colab": {
          "base_uri": "https://localhost:8080/"
        },
        "id": "ZaAWUiFbs3Pg",
        "outputId": "411b4374-29a3-4900-db6e-5c7aa046edf2"
      },
      "execution_count": null,
      "outputs": [
        {
          "output_type": "stream",
          "name": "stdout",
          "text": [
            "請輸入正整數n的值：100\n",
            "100!=93326215443944152681699238856266700490715968264381621468592963895217599993229915608941463976156518286253697920827223758251185210916864000000000000000000000000\n"
          ]
        }
      ]
    },
    {
      "cell_type": "markdown",
      "source": [
        "綜合練習："
      ],
      "metadata": {
        "id": "0ezrHhjgAskT"
      }
    },
    {
      "cell_type": "markdown",
      "source": [
        "1.請計算0-50的奇數和與偶數和"
      ],
      "metadata": {
        "id": "w6sC3W2lBMQi"
      }
    },
    {
      "cell_type": "code",
      "source": [
        "total = n = 0\n",
        "for i in range(0,51):\n",
        "    if i  % 2 == 0 :  \n",
        "      total += i \n",
        "print(\"0~50的 偶數 和 結果 是\",total)\n",
        "total = n = 25\n",
        "for j in range(0,50):\n",
        "     if j % 2 ==0 :\n",
        "       total += j\n",
        "print(\"0~50的 偶數 和 結果 是\",total)\n"
      ],
      "metadata": {
        "id": "cE5N2Hh___ZD",
        "colab": {
          "base_uri": "https://localhost:8080/"
        },
        "outputId": "ba1d1428-b4e0-460b-8214-b0d1e8d690ac"
      },
      "execution_count": 382,
      "outputs": [
        {
          "output_type": "stream",
          "name": "stdout",
          "text": [
            "0~50的 偶數 和 結果 是 650\n",
            "0~50的 偶數 和 結果 是 625\n"
          ]
        }
      ]
    },
    {
      "cell_type": "markdown",
      "source": [
        "2.讓使用者輸入一個正整數，程式會顯示由1到該整數的倒三角形"
      ],
      "metadata": {
        "id": "eDu7mtft_i_W"
      }
    },
    {
      "cell_type": "markdown",
      "source": [
        ""
      ],
      "metadata": {
        "id": "M2PGc1LVKgI_"
      }
    },
    {
      "cell_type": "markdown",
      "source": [
        "a."
      ],
      "metadata": {
        "id": "NHjxaQx8OkJb"
      }
    },
    {
      "cell_type": "code",
      "source": [
        "n = int(input(\"請輸入正整數：\"))\n",
        "for i in range(1,8):\n",
        "    for j in range(1,8):\n",
        "      if j >= i :\n",
        "          print(\"*\",end=\"\")\n",
        "    print()"
      ],
      "metadata": {
        "colab": {
          "base_uri": "https://localhost:8080/"
        },
        "id": "4-R9B3rcC5PF",
        "outputId": "ff431abc-1e22-48d2-ef9b-dc03c01432f8"
      },
      "execution_count": 390,
      "outputs": [
        {
          "output_type": "stream",
          "name": "stdout",
          "text": [
            "請輸入正整數：7\n",
            "*******\n",
            "******\n",
            "*****\n",
            "****\n",
            "***\n",
            "**\n",
            "*\n"
          ]
        }
      ]
    },
    {
      "cell_type": "markdown",
      "source": [
        "b."
      ],
      "metadata": {
        "id": "Ud9ja7EhOqtP"
      }
    },
    {
      "cell_type": "code",
      "source": [
        "n = int(input(\"請輸入正整數：\"))\n",
        "for i in range(1,6):\n",
        "    for j in range(1,6):\n",
        "      if j >= i :\n",
        "          print(\"*\",end=\"\")\n",
        "    print()"
      ],
      "metadata": {
        "colab": {
          "base_uri": "https://localhost:8080/"
        },
        "id": "5bNlbyjX_9kB",
        "outputId": "cf0eca6a-fd76-4496-d48b-5baac45df3f9"
      },
      "execution_count": null,
      "outputs": [
        {
          "output_type": "stream",
          "name": "stdout",
          "text": [
            "請輸入正整數：5\n",
            "*****\n",
            "****\n",
            "***\n",
            "**\n",
            "*\n"
          ]
        }
      ]
    },
    {
      "cell_type": "markdown",
      "source": [
        "3.請用for 迴圈，求出分1～100中，全部是3或7倍數的數總和："
      ],
      "metadata": {
        "id": "wxdQPL_mO5Fx"
      }
    },
    {
      "cell_type": "code",
      "source": [
        "sum = 0 \n",
        "for i in range(1,101):\n",
        "  if i % 3 == 0 or i % 7 == 0 :\n",
        "    sum += i \n",
        "print(\"數值 1～100 中 所有 是 3 或 7 倍數的數之總和 = \"+str(sum))"
      ],
      "metadata": {
        "colab": {
          "base_uri": "https://localhost:8080/"
        },
        "id": "TX3auKioOepp",
        "outputId": "134b116c-a225-4e88-8b5b-01bc05bbc048"
      },
      "execution_count": null,
      "outputs": [
        {
          "output_type": "stream",
          "name": "stdout",
          "text": [
            "數值 1～100 中 所有 是 3 或 7 倍數的數之總和 = 2208\n"
          ]
        }
      ]
    },
    {
      "cell_type": "markdown",
      "source": [
        "4.讓使用者輸入一個正整數後，列出該數的所有因數，並判斷該數是否為質數："
      ],
      "metadata": {
        "id": "_yG1eCFGQJ9B"
      }
    },
    {
      "cell_type": "code",
      "source": [
        "a = b = int(input(\"請輸入一個正整數：\"))\n",
        "output=\"\"\n",
        "while True:\n",
        "  for i in range(1,(a+1)):\n",
        "    if i == b:\n",
        "       break\n",
        "    if a%i==0:\n",
        "        output +=f\"{i}\"\n",
        "        a=int(a/i)\n",
        "        break\n",
        "  if a==1 or a==b:\n",
        "      break\n",
        "  else:\n",
        "    output += \"*\"\n",
        "if a==b :\n",
        "  print(f\"{b}是質數\")\n",
        "else:\n",
        "   print(f\"{b}={output}\")"
      ],
      "metadata": {
        "colab": {
          "base_uri": "https://localhost:8080/"
        },
        "id": "KmVRX2jCGHd_",
        "outputId": "5e81614a-6c05-4dc9-da9f-e41dea97e5f7"
      },
      "execution_count": 394,
      "outputs": [
        {
          "output_type": "stream",
          "name": "stdout",
          "text": [
            "請輸入一個正整數：12\n",
            "12是質數\n"
          ]
        }
      ]
    },
    {
      "cell_type": "code",
      "source": [
        "n=int(input(\"請輸入一個正整數：\"))\n",
        "for i in range(1,n+1):\n",
        "   if n%i == 0 :\n",
        "     print(\"%d的因數有\",i,end=\" \")\n",
        "\n"
      ],
      "metadata": {
        "colab": {
          "base_uri": "https://localhost:8080/"
        },
        "id": "9LvB_TJ6H7bw",
        "outputId": "0f8386bc-0941-4f3a-eecd-8c5d600b1aca"
      },
      "execution_count": 397,
      "outputs": [
        {
          "output_type": "stream",
          "name": "stdout",
          "text": [
            "請輸入一個正整數：12\n",
            "%d的因數有 1 %d的因數有 2 %d的因數有 3 %d的因數有 4 %d的因數有 6 %d的因數有 12 "
          ]
        }
      ]
    }
  ]
}