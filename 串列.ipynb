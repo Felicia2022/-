{
  "nbformat": 4,
  "nbformat_minor": 0,
  "metadata": {
    "colab": {
      "name": "串列",
      "private_outputs": true,
      "provenance": [],
      "authorship_tag": "ABX9TyPnzmawWwIjX9q7HxC8tWdc",
      "include_colab_link": true
    },
    "kernelspec": {
      "name": "python3",
      "display_name": "Python 3"
    },
    "language_info": {
      "name": "python"
    }
  },
  "cells": [
    {
      "cell_type": "markdown",
      "metadata": {
        "id": "view-in-github",
        "colab_type": "text"
      },
      "source": [
        "<a href=\"https://colab.research.google.com/github/Felicia2022/-/blob/5/%E4%B8%B2%E5%88%97.ipynb\" target=\"_parent\"><img src=\"https://colab.research.google.com/assets/colab-badge.svg\" alt=\"Open In Colab\"/></a>"
      ]
    },
    {
      "cell_type": "code",
      "execution_count": null,
      "metadata": {
        "id": "FAg5gSqF6uTl"
      },
      "outputs": [],
      "source": [
        "names=[\"Curry\",\"Green\",\"Wiggins\",\"Looney\",\"Thompson\"]\n",
        "print(\"全州勇士現在有的球員陣容=\",names)\n",
        "names2=[\"Curry\",\"Wiggins\",\"Thompson\"]\n",
        "score1=[30,22,28]\n",
        "print(\"勇士今天最高的三個得分\",score1,\"球員分別為\",names2)\n",
        "name3=[\"Green\",\"Looney\"]\n",
        "score2=[5,6]\n",
        "print(\"勇士今天最低的兩個得分\",score2,\"球員分別為\",name3)\n",
        "print(\"勇士今天最高得分為 Curry 分數為\",max(score1))\n",
        "print(\"勇士今天最低得分為 Green 分數為\",min(score2))\n",
        "\n"
      ]
    },
    {
      "cell_type": "code",
      "source": [
        ""
      ],
      "metadata": {
        "id": "K0sIPD7IGO21"
      },
      "execution_count": null,
      "outputs": []
    }
  ]
}