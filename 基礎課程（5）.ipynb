{
  "nbformat": 4,
  "nbformat_minor": 0,
  "metadata": {
    "colab": {
      "name": "基礎課程（5）",
      "private_outputs": true,
      "provenance": [],
      "authorship_tag": "ABX9TyO6RiiEeV331n6I0j5ynotW",
      "include_colab_link": true
    },
    "kernelspec": {
      "name": "python3",
      "display_name": "Python 3"
    },
    "language_info": {
      "name": "python"
    }
  },
  "cells": [
    {
      "cell_type": "markdown",
      "metadata": {
        "id": "view-in-github",
        "colab_type": "text"
      },
      "source": [
        "<a href=\"https://colab.research.google.com/github/Felicia2022/-/blob/Felicia2022-patch-1/%E5%9F%BA%E7%A4%8E%E8%AA%B2%E7%A8%8B%EF%BC%885%EF%BC%89.ipynb\" target=\"_parent\"><img src=\"https://colab.research.google.com/assets/colab-badge.svg\" alt=\"Open In Colab\"/></a>"
      ]
    },
    {
      "cell_type": "code",
      "execution_count": null,
      "metadata": {
        "id": "t84jPY527xAS"
      },
      "outputs": [],
      "source": [
        "temp=float(input(\"請輸入你的體溫\"))\n",
        "if temp>=37.5:\n",
        "  print(\"體溫過高！\")\n",
        "elif temp >= 37 and temp < 37.4:\n",
        "   print(\"體溫略高！\")\n",
        "elif temp >=34 and temp <36.9:\n",
        "  print(\"體溫正常！\")\n",
        "else:\n",
        "  print(\"體溫異常，請重新測量！\")"
      ]
    },
    {
      "cell_type": "code",
      "source": [
        "money = int(input(\"請輸入購物金額：\"))\n",
        "if(money >=10000):\n",
        "   if(money >=100000):\n",
        "     print(\"八折\", money * 0.8, end = \"元\\n\")\n",
        "   elif(money >= 50000):\n",
        "     print(\"八五折\",money * 0.85,end = \"元\\n\")\n",
        "   elif(money>=30000):\n",
        "     print(\"九折\",money * 0.9,end = \"元\\n\")\n",
        "   else:\n",
        "      print(\"九五折\",money,end=\"元\\n\")\n",
        "else:\n",
        "  print(\"沒打折\",money,end=\"元\\n\")"
      ],
      "metadata": {
        "id": "O1-1JGq2-Vi-"
      },
      "execution_count": null,
      "outputs": []
    },
    {
      "cell_type": "code",
      "source": [
        "score = int(input(\"請輸入成績：\"))\n",
        "if(score>=90):\n",
        "  print(\"A\")\n",
        "elif(score>=80 and score<=89):\n",
        "  print(\"B\")\n",
        "elif(score>=70 and score<=79):\n",
        "  print(\"C\")\n",
        "else:\n",
        "  print(\"E\")"
      ],
      "metadata": {
        "id": "5GOJoKyZJyzD"
      },
      "execution_count": null,
      "outputs": []
    },
    {
      "cell_type": "code",
      "source": [
        "x = int(input(\"請輸入月份：\"))\n",
        "if(x>=3 and x<=5):\n",
        "  print(x,\"月是春天！\")\n",
        "elif(x>=6 and x<=8):\n",
        "  print(x,\"月是夏天！\")\n",
        "elif(x>=9 and x<=11):\n",
        "  print(x,\"月是秋天\")\n",
        "elif(x>=1 and x<=12):\n",
        "  print(x,\"月是冬天\")\n",
        "else:\n",
        " print(\"月份不再範圍內\")"
      ],
      "metadata": {
        "id": "8m2Sdm-hMLqq"
      },
      "execution_count": null,
      "outputs": []
    },
    {
      "cell_type": "code",
      "source": [
        "salary =int(input(\"請輸入今年收入淨額：\"))\n",
        "if(salary>=2000000):\n",
        " print(\"付稅金額：\",salary * 0.3,end=\"元\\n\")\n",
        "elif(salary>=1000000):\n",
        "  print(\"付稅金額：\",salary *0.21,end=\"元\\n\")\n",
        "elif(salary>=600000):\n",
        "  print(\"付稅金額：\",salary * 0.13,end=\"元\\n\")\n",
        "elif(salary>=300000):\n",
        "  print(\"付稅金額：\",salary*0.06,end=\"元\\n\")\n",
        "else:\n",
        "  print(\"付稅金額：\",salary*0,end = \"元\\n\")"
      ],
      "metadata": {
        "id": "t6Z9hU8XRVKk"
      },
      "execution_count": null,
      "outputs": []
    }
  ]
}